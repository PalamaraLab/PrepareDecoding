{
 "cells": [
  {
   "cell_type": "markdown",
   "id": "bc3f0db2",
   "metadata": {},
   "source": [
    "# Creating decoding quantities\n",
    "\n",
    "You can either create decoding quantities from scratch, or from pre-computed CSFS values."
   ]
  },
  {
   "cell_type": "markdown",
   "id": "c0f2777c",
   "metadata": {},
   "source": [
    "## Creating decoding quantities from scratch"
   ]
  },
  {
   "cell_type": "code",
   "execution_count": 1,
   "id": "42f85552",
   "metadata": {},
   "outputs": [],
   "source": [
    "import pathlib\n",
    "\n",
    "from asmc.preparedecoding import *"
   ]
  },
  {
   "cell_type": "code",
   "execution_count": 2,
   "id": "56e8e52f",
   "metadata": {},
   "outputs": [],
   "source": [
    "files_dir = (pathlib.Path('..') / 'test' / 'regression').resolve()\n",
    "\n",
    "demo_file = str(files_dir / 'input_CEU.demo')\n",
    "disc_file = str(files_dir / 'input_30-100-2000.disc')\n",
    "freq_file = str(files_dir / 'input_UKBB.frq')\n",
    "\n",
    "dq = calculate_csfs_and_prepare_decoding(\n",
    "    demographic_file=Demography(demo_file),\n",
    "    discretization_file=disc_file,\n",
    "    freq_file=freq_file,\n",
    "    samples=50,\n",
    ")"
   ]
  },
  {
   "cell_type": "markdown",
   "id": "f48ea6a0",
   "metadata": {},
   "source": [
    "## Write the decoding quantities to file\n",
    "\n",
    "Once you have generated the decoding quantities object, you can save them to file.\n",
    "It may also be worth saving the CSFS to file, as this will prevent them being recalculated in subsequent runs."
   ]
  },
  {
   "cell_type": "code",
   "execution_count": 3,
   "id": "e1d704d3",
   "metadata": {},
   "outputs": [],
   "source": [
    "# This will createa file `files_dir/output.decodingQuantities.gz`\n",
    "dq.saveDecodingQuantities(str(files_dir / 'output'))\n",
    "\n",
    "# This will createa file `files_dir/output.csfs`\n",
    "dq.saveCsfs(str(files_dir / 'output'))"
   ]
  },
  {
   "cell_type": "markdown",
   "id": "206ab717",
   "metadata": {},
   "source": [
    "## Creating decoding quantities from precomputed CSFS\n",
    "\n",
    "If you have pre-computed CSFS values, you can use those to speed up calculation of the decoding quantities."
   ]
  },
  {
   "cell_type": "code",
   "execution_count": 4,
   "id": "84e495bb",
   "metadata": {},
   "outputs": [],
   "source": [
    "dq = prepare_decoding_precalculated_csfs(\n",
    "    csfs_file=str(files_dir / 'output.csfs'),\n",
    "    demographic_file=Demography(demo_file),\n",
    "    discretization_file=disc_file,\n",
    "    freq_file=freq_file,\n",
    "    samples=50,\n",
    ")"
   ]
  },
  {
   "cell_type": "markdown",
   "id": "4144936a",
   "metadata": {},
   "source": [
    "## We can access various properties from the decoding quantities object"
   ]
  },
  {
   "cell_type": "code",
   "execution_count": 5,
   "id": "6ecc7fd7",
   "metadata": {},
   "outputs": [
    {
     "data": {
      "text/plain": [
       "{'states': 69, 'samples': 50, 'mu': 1.65e-08}"
      ]
     },
     "execution_count": 5,
     "metadata": {},
     "output_type": "execute_result"
    }
   ],
   "source": [
    "{\"states\": dq.states, \"samples\": dq.samples, \"mu\": dq.mu}"
   ]
  },
  {
   "cell_type": "markdown",
   "id": "ec9ec5b2",
   "metadata": {},
   "source": [
    "Eigen matrices are converted to numpy arrays:"
   ]
  },
  {
   "cell_type": "code",
   "execution_count": 6,
   "id": "fad47cb3",
   "metadata": {},
   "outputs": [
    {
     "data": {
      "text/plain": [
       "(numpy.ndarray, (2, 69))"
      ]
     },
     "execution_count": 6,
     "metadata": {},
     "output_type": "execute_result"
    }
   ],
   "source": [
    "X = dq.compressedEmission\n",
    "type(X), X.shape"
   ]
  },
  {
   "cell_type": "markdown",
   "id": "cfe89746",
   "metadata": {},
   "source": [
    "Maps can be iterated over. They are not directly converted to Python dicts to allow [passing by reference](https://pybind11.readthedocs.io/en/stable/advanced/cast/stl.html#making-opaque-types) if necessary."
   ]
  },
  {
   "cell_type": "code",
   "execution_count": 7,
   "id": "aacfc6cd",
   "metadata": {},
   "outputs": [
    {
     "data": {
      "text/plain": [
       "69"
      ]
     },
     "execution_count": 7,
     "metadata": {},
     "output_type": "execute_result"
    }
   ],
   "source": [
    "len([x for x in dq.CSFS])"
   ]
  },
  {
   "cell_type": "code",
   "execution_count": 8,
   "id": "2a1689b4",
   "metadata": {},
   "outputs": [
    {
     "data": {
      "text/plain": [
       "(3, 49)"
      ]
     },
     "execution_count": 8,
     "metadata": {},
     "output_type": "execute_result"
    }
   ],
   "source": [
    "c0 = dq.CSFS[0]\n",
    "{\"mu\": c0.mu, \"from\": c0.csfsFrom, \"to\": c0.csfsTo, \"samples\": c0.samples}\n",
    "c0.csfs.shape"
   ]
  }
 ],
 "metadata": {
  "kernelspec": {
   "display_name": "Python 3",
   "language": "python",
   "name": "python3"
  },
  "language_info": {
   "codemirror_mode": {
    "name": "ipython",
    "version": 3
   },
   "file_extension": ".py",
   "mimetype": "text/x-python",
   "name": "python",
   "nbconvert_exporter": "python",
   "pygments_lexer": "ipython3",
   "version": "3.8.5"
  }
 },
 "nbformat": 4,
 "nbformat_minor": 5
}

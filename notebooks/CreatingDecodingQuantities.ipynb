{
 "cells": [
  {
   "cell_type": "markdown",
   "id": "bc3f0db2",
   "metadata": {},
   "source": [
    "# Creating decoding quantities\n",
    "\n",
    "You can either create decoding quantities from scratch, or from pre-computed CSFS values.\n",
    "\n",
    "In addition, there are a number of built-in defaults that can be selected (see [here](https://github.com/PalamaraLab/ASMC_data) for details):\n",
    " - built-in haploid demographies (\"ACB\", \"ASW\", \"BEB\", \"CDX\", \"CEU\", \"CHB\", \"CHS\", \"CLM\", \"ESN\", \"FIN\", \"GBR\", \"GIH\", \"GWD\", \"IBS\", \"ITU\", \"JPT\", \"KHV\", \"LWK\", \"MSL\", \"MXL\", \"PEL\", \"PJL\", \"PUR\", \"STU\", \"TSI\", \"YRI\")\n",
    " - built-in frequencies information; currently only available for UKBB and either 50, 100, 200 or 300 samples\n",
    "\n",
    "The discretization can be loaded from file or specified by providing the required quantiles. Full details [here](https://github.com/PalamaraLab/PrepareDecoding/blob/master/docs/api.md#discretization).\n",
    "\n",
    "Further details are available for:\n",
    " - [the API](https://github.com/PalamaraLab/PrepareDecoding/blob/master/docs/api.md)\n",
    " - [file formats](https://github.com/PalamaraLab/PrepareDecoding/blob/master/docs/file_formats.md)"
   ]
  },
  {
   "cell_type": "markdown",
   "id": "c0f2777c",
   "metadata": {},
   "source": [
    "## Creating decoding quantities\n",
    "\n",
    "If you do not have pre-computed CSFS values, then these will be generated when calculating the decoding quantities.\n",
    "This step will likely dominate the runtime, so you may wish to save the CSFS to file and re-use them for subsequent runs.\n",
    "\n",
    "See examples below: simply specify the `csfs_file` parameter, and CSFS will be loaded from file."
   ]
  },
  {
   "cell_type": "code",
   "execution_count": null,
   "id": "42f85552",
   "metadata": {},
   "outputs": [],
   "source": [
    "import pathlib\n",
    "\n",
    "from asmc.preparedecoding import *"
   ]
  },
  {
   "cell_type": "code",
   "execution_count": null,
   "id": "56e8e52f",
   "metadata": {},
   "outputs": [],
   "source": [
    "files_dir = (pathlib.Path('..') / 'test' / 'regression').resolve()\n",
    "\n",
    "demo_file = str(files_dir / 'input_CEU.demo')\n",
    "disc_file = str(files_dir / 'input_30-100-2000.disc')\n",
    "freq_file = str(files_dir / 'input_UKBB.frq')\n",
    "\n",
    "# Calculate with a discretization file\n",
    "dq = prepare_decoding(\n",
    "    demography=demo_file,\n",
    "    discretization=disc_file,\n",
    "    frequencies=freq_file,\n",
    "    samples=50, # Use a larger number (300 is suggested) for real analysis\n",
    ")\n",
    "\n",
    "# Or calculate with pre-defined quantiles, and a user-defined number of additional quantiles\n",
    "dq = prepare_decoding(\n",
    "    demography=demo_file,\n",
    "    discretization=[[30.0, 15], [100.0, 15], 39],\n",
    "    frequencies=freq_file,\n",
    "    samples=50, # Use a larger number (300 is suggested) for real analysis\n",
    ")\n",
    "\n",
    "# Or use with built-in demographies\n",
    "dq = prepare_decoding(\n",
    "    demography='CEU',\n",
    "    discretization=[[30.0, 15], [100.0, 15], 39],\n",
    "    frequencies=freq_file,\n",
    "    samples=50, # Use a larger number (300 is suggested) for real analysis\n",
    ")\n",
    "\n",
    "# Or use with built-in frequency information from UKBB\n",
    "dq = prepare_decoding(\n",
    "    demography='CEU',\n",
    "    discretization=[[30.0, 15], [100.0, 15], 39],\n",
    "    frequencies='UKBB',\n",
    "    samples=50, # Use a larger number (300 is suggested) for real analysis\n",
    ")"
   ]
  },
  {
   "cell_type": "markdown",
   "id": "f48ea6a0",
   "metadata": {},
   "source": [
    "## Write the decoding quantities to file\n",
    "\n",
    "Once you have generated the decoding quantities object, you can save them to file.\n",
    "It may also be worth saving the CSFS to file, as this can be used to prevent them being recalculated in subsequent runs."
   ]
  },
  {
   "cell_type": "code",
   "execution_count": null,
   "id": "e1d704d3",
   "metadata": {},
   "outputs": [],
   "source": [
    "# This will create a file `files_dir/output.decodingQuantities.gz`\n",
    "dq.save_decoding_quantities(str(files_dir / 'output'))\n",
    "\n",
    "# This will create a file `files_dir/output.csfs`\n",
    "dq.save_csfs(str(files_dir / 'output'))\n",
    "\n",
    "# You may also save other files, which may be of use:\n",
    "dq.save_intervals(str(files_dir / 'output'))\n",
    "dq.save_discretization(str(files_dir / 'output'))\n",
    "save_demography(str(files_dir), 'CEU')"
   ]
  },
  {
   "cell_type": "markdown",
   "id": "206ab717",
   "metadata": {},
   "source": [
    "## Using precomputed CSFS\n",
    "\n",
    "If you have pre-computed CSFS values, you can use those to speed up calculation of the decoding quantities."
   ]
  },
  {
   "cell_type": "code",
   "execution_count": null,
   "id": "84e495bb",
   "metadata": {},
   "outputs": [],
   "source": [
    "dq = prepare_decoding(\n",
    "    csfs_file=str(files_dir / 'output.csfs'),\n",
    "    demography='CEU',\n",
    "    discretization=[[30.0, 15], [100.0, 15], 39],\n",
    "    frequencies='UKBB',\n",
    "    samples=50, # Use a larger number (300 is suggested) for real analysis\n",
    ")"
   ]
  },
  {
   "cell_type": "markdown",
   "id": "4144936a",
   "metadata": {},
   "source": [
    "## We can access various properties from the decoding quantities object"
   ]
  },
  {
   "cell_type": "code",
   "execution_count": null,
   "id": "6ecc7fd7",
   "metadata": {},
   "outputs": [],
   "source": [
    "{\"states\": dq.states, \"samples\": dq.samples, \"mu\": dq.mu}"
   ]
  },
  {
   "cell_type": "markdown",
   "id": "ec9ec5b2",
   "metadata": {},
   "source": [
    "Eigen matrices are converted to numpy arrays:"
   ]
  },
  {
   "cell_type": "code",
   "execution_count": null,
   "id": "fad47cb3",
   "metadata": {},
   "outputs": [],
   "source": [
    "X = dq.compressedEmission\n",
    "type(X), X.shape"
   ]
  },
  {
   "cell_type": "markdown",
   "id": "cfe89746",
   "metadata": {},
   "source": [
    "Maps can be iterated over. They are not directly converted to Python dicts to allow [passing by reference](https://pybind11.readthedocs.io/en/stable/advanced/cast/stl.html#making-opaque-types) if necessary."
   ]
  },
  {
   "cell_type": "code",
   "execution_count": null,
   "id": "aacfc6cd",
   "metadata": {},
   "outputs": [],
   "source": [
    "len([x for x in dq.CSFS])"
   ]
  },
  {
   "cell_type": "code",
   "execution_count": null,
   "id": "2a1689b4",
   "metadata": {},
   "outputs": [],
   "source": [
    "c0 = dq.CSFS[0]\n",
    "{\"mu\": c0.mu, \"from\": c0.csfsFrom, \"to\": c0.csfsTo, \"samples\": c0.samples}\n",
    "c0.csfs.shape"
   ]
  }
 ],
 "metadata": {
  "kernelspec": {
   "display_name": "Python 3 (ipykernel)",
   "language": "python",
   "name": "python3"
  },
  "language_info": {
   "codemirror_mode": {
    "name": "ipython",
    "version": 3
   },
   "file_extension": ".py",
   "mimetype": "text/x-python",
   "name": "python",
   "nbconvert_exporter": "python",
   "pygments_lexer": "ipython3",
   "version": "3.8.10"
  }
 },
 "nbformat": 4,
 "nbformat_minor": 5
}
